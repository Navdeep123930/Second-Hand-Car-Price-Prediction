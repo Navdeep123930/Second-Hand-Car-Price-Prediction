{
  "nbformat": 4,
  "nbformat_minor": 0,
  "metadata": {
    "colab": {
      "name": "Second_Hand_Car_Price_Prediction.ipynb",
      "provenance": []
    },
    "kernelspec": {
      "name": "python3",
      "display_name": "Python 3"
    }
  },
  "cells": [
    {
      "cell_type": "code",
      "metadata": {
        "id": "hpVM9-O-F0W3",
        "colab_type": "code",
        "colab": {
          "resources": {
            "http://localhost:8080/nbextensions/google.colab/files.js": {
              "data": "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",
              "ok": true,
              "headers": [
                [
                  "content-type",
                  "application/javascript"
                ]
              ],
              "status": 200,
              "status_text": ""
            }
          },
          "base_uri": "https://localhost:8080/",
          "height": 91
        },
        "outputId": "7f1b0d3c-8d4f-4eb2-e6f9-4b6c3f0fca4c"
      },
      "source": [
        "!pip install -q kaggle\n",
        "from google.colab import files\n",
        "files.upload()\n",
        "!mkdir -p ~/.kaggle\n",
        "!cp kaggle.json ~/.kaggle/\n",
        "!chmod 600 /root/.kaggle/kaggle.json\n",
        "!kaggle datasets download -d mayankpatel14/second-hand-used-cars-data-set-linear-regression"
      ],
      "execution_count": 60,
      "outputs": [
        {
          "output_type": "display_data",
          "data": {
            "text/html": [
              "\n",
              "     <input type=\"file\" id=\"files-2cbca7e1-7f65-4f8f-b30f-ef30017eb78e\" name=\"files[]\" multiple disabled\n",
              "        style=\"border:none\" />\n",
              "     <output id=\"result-2cbca7e1-7f65-4f8f-b30f-ef30017eb78e\">\n",
              "      Upload widget is only available when the cell has been executed in the\n",
              "      current browser session. Please rerun this cell to enable.\n",
              "      </output>\n",
              "      <script src=\"/nbextensions/google.colab/files.js\"></script> "
            ],
            "text/plain": [
              "<IPython.core.display.HTML object>"
            ]
          },
          "metadata": {
            "tags": []
          }
        },
        {
          "output_type": "stream",
          "text": [
            "Saving kaggle.json to kaggle.json\n",
            "second-hand-used-cars-data-set-linear-regression.zip: Skipping, found more recently modified local copy (use --force to force download)\n"
          ],
          "name": "stdout"
        }
      ]
    },
    {
      "cell_type": "code",
      "metadata": {
        "id": "ux9Jho9JJMvs",
        "colab_type": "code",
        "colab": {}
      },
      "source": [
        "import pandas as pd\n",
        "import numpy as np \n",
        "import matplotlib.pyplot as plt \n",
        "import seaborn as sns"
      ],
      "execution_count": 61,
      "outputs": []
    },
    {
      "cell_type": "code",
      "metadata": {
        "id": "FGpFLGA1HKXI",
        "colab_type": "code",
        "colab": {}
      },
      "source": [
        "df=pd.read_csv('/content/second-hand-used-cars-data-set-linear-regression.zip')"
      ],
      "execution_count": 3,
      "outputs": []
    },
    {
      "cell_type": "code",
      "metadata": {
        "id": "Q1LIe_adk1BD",
        "colab_type": "code",
        "colab": {
          "base_uri": "https://localhost:8080/",
          "height": 343
        },
        "outputId": "5660745f-a8db-4c57-a668-cd29d2f8dea3"
      },
      "source": [
        "df.head(10)"
      ],
      "execution_count": 62,
      "outputs": [
        {
          "output_type": "execute_result",
          "data": {
            "text/html": [
              "<div>\n",
              "<style scoped>\n",
              "    .dataframe tbody tr th:only-of-type {\n",
              "        vertical-align: middle;\n",
              "    }\n",
              "\n",
              "    .dataframe tbody tr th {\n",
              "        vertical-align: top;\n",
              "    }\n",
              "\n",
              "    .dataframe thead th {\n",
              "        text-align: right;\n",
              "    }\n",
              "</style>\n",
              "<table border=\"1\" class=\"dataframe\">\n",
              "  <thead>\n",
              "    <tr style=\"text-align: right;\">\n",
              "      <th></th>\n",
              "      <th>v.id</th>\n",
              "      <th>on road old</th>\n",
              "      <th>on road now</th>\n",
              "      <th>years</th>\n",
              "      <th>km</th>\n",
              "      <th>rating</th>\n",
              "      <th>condition</th>\n",
              "      <th>economy</th>\n",
              "      <th>top speed</th>\n",
              "      <th>hp</th>\n",
              "      <th>torque</th>\n",
              "      <th>current price</th>\n",
              "    </tr>\n",
              "  </thead>\n",
              "  <tbody>\n",
              "    <tr>\n",
              "      <th>0</th>\n",
              "      <td>1</td>\n",
              "      <td>535651</td>\n",
              "      <td>798186</td>\n",
              "      <td>3</td>\n",
              "      <td>78945</td>\n",
              "      <td>1</td>\n",
              "      <td>2</td>\n",
              "      <td>14</td>\n",
              "      <td>177</td>\n",
              "      <td>73</td>\n",
              "      <td>123</td>\n",
              "      <td>351318.0</td>\n",
              "    </tr>\n",
              "    <tr>\n",
              "      <th>1</th>\n",
              "      <td>2</td>\n",
              "      <td>591911</td>\n",
              "      <td>861056</td>\n",
              "      <td>6</td>\n",
              "      <td>117220</td>\n",
              "      <td>5</td>\n",
              "      <td>9</td>\n",
              "      <td>9</td>\n",
              "      <td>148</td>\n",
              "      <td>74</td>\n",
              "      <td>95</td>\n",
              "      <td>285001.5</td>\n",
              "    </tr>\n",
              "    <tr>\n",
              "      <th>2</th>\n",
              "      <td>3</td>\n",
              "      <td>686990</td>\n",
              "      <td>770762</td>\n",
              "      <td>2</td>\n",
              "      <td>132538</td>\n",
              "      <td>2</td>\n",
              "      <td>8</td>\n",
              "      <td>15</td>\n",
              "      <td>181</td>\n",
              "      <td>53</td>\n",
              "      <td>97</td>\n",
              "      <td>215386.0</td>\n",
              "    </tr>\n",
              "    <tr>\n",
              "      <th>3</th>\n",
              "      <td>4</td>\n",
              "      <td>573999</td>\n",
              "      <td>722381</td>\n",
              "      <td>4</td>\n",
              "      <td>101065</td>\n",
              "      <td>4</td>\n",
              "      <td>3</td>\n",
              "      <td>11</td>\n",
              "      <td>197</td>\n",
              "      <td>54</td>\n",
              "      <td>116</td>\n",
              "      <td>244295.5</td>\n",
              "    </tr>\n",
              "    <tr>\n",
              "      <th>4</th>\n",
              "      <td>5</td>\n",
              "      <td>691388</td>\n",
              "      <td>811335</td>\n",
              "      <td>6</td>\n",
              "      <td>61559</td>\n",
              "      <td>3</td>\n",
              "      <td>9</td>\n",
              "      <td>12</td>\n",
              "      <td>160</td>\n",
              "      <td>53</td>\n",
              "      <td>105</td>\n",
              "      <td>531114.5</td>\n",
              "    </tr>\n",
              "    <tr>\n",
              "      <th>5</th>\n",
              "      <td>6</td>\n",
              "      <td>650007</td>\n",
              "      <td>844846</td>\n",
              "      <td>6</td>\n",
              "      <td>148846</td>\n",
              "      <td>2</td>\n",
              "      <td>9</td>\n",
              "      <td>13</td>\n",
              "      <td>138</td>\n",
              "      <td>61</td>\n",
              "      <td>109</td>\n",
              "      <td>177933.5</td>\n",
              "    </tr>\n",
              "    <tr>\n",
              "      <th>6</th>\n",
              "      <td>7</td>\n",
              "      <td>633344</td>\n",
              "      <td>756063</td>\n",
              "      <td>5</td>\n",
              "      <td>78025</td>\n",
              "      <td>1</td>\n",
              "      <td>9</td>\n",
              "      <td>15</td>\n",
              "      <td>171</td>\n",
              "      <td>94</td>\n",
              "      <td>132</td>\n",
              "      <td>410877.0</td>\n",
              "    </tr>\n",
              "    <tr>\n",
              "      <th>7</th>\n",
              "      <td>8</td>\n",
              "      <td>662990</td>\n",
              "      <td>891569</td>\n",
              "      <td>6</td>\n",
              "      <td>76546</td>\n",
              "      <td>1</td>\n",
              "      <td>2</td>\n",
              "      <td>12</td>\n",
              "      <td>146</td>\n",
              "      <td>109</td>\n",
              "      <td>96</td>\n",
              "      <td>467471.5</td>\n",
              "    </tr>\n",
              "    <tr>\n",
              "      <th>8</th>\n",
              "      <td>9</td>\n",
              "      <td>543184</td>\n",
              "      <td>841354</td>\n",
              "      <td>7</td>\n",
              "      <td>57662</td>\n",
              "      <td>4</td>\n",
              "      <td>7</td>\n",
              "      <td>14</td>\n",
              "      <td>151</td>\n",
              "      <td>50</td>\n",
              "      <td>132</td>\n",
              "      <td>462397.5</td>\n",
              "    </tr>\n",
              "    <tr>\n",
              "      <th>9</th>\n",
              "      <td>10</td>\n",
              "      <td>573043</td>\n",
              "      <td>879481</td>\n",
              "      <td>2</td>\n",
              "      <td>132347</td>\n",
              "      <td>2</td>\n",
              "      <td>3</td>\n",
              "      <td>12</td>\n",
              "      <td>200</td>\n",
              "      <td>115</td>\n",
              "      <td>82</td>\n",
              "      <td>197266.0</td>\n",
              "    </tr>\n",
              "  </tbody>\n",
              "</table>\n",
              "</div>"
            ],
            "text/plain": [
              "   v.id  on road old  on road now  years  ...  top speed   hp  torque  current price\n",
              "0     1       535651       798186      3  ...        177   73     123       351318.0\n",
              "1     2       591911       861056      6  ...        148   74      95       285001.5\n",
              "2     3       686990       770762      2  ...        181   53      97       215386.0\n",
              "3     4       573999       722381      4  ...        197   54     116       244295.5\n",
              "4     5       691388       811335      6  ...        160   53     105       531114.5\n",
              "5     6       650007       844846      6  ...        138   61     109       177933.5\n",
              "6     7       633344       756063      5  ...        171   94     132       410877.0\n",
              "7     8       662990       891569      6  ...        146  109      96       467471.5\n",
              "8     9       543184       841354      7  ...        151   50     132       462397.5\n",
              "9    10       573043       879481      2  ...        200  115      82       197266.0\n",
              "\n",
              "[10 rows x 12 columns]"
            ]
          },
          "metadata": {
            "tags": []
          },
          "execution_count": 62
        }
      ]
    },
    {
      "cell_type": "code",
      "metadata": {
        "id": "pFb-0rvsIYL5",
        "colab_type": "code",
        "colab": {
          "base_uri": "https://localhost:8080/",
          "height": 34
        },
        "outputId": "2866099d-ba83-47db-c29b-b0daf4063449"
      },
      "source": [
        "df.shape"
      ],
      "execution_count": 63,
      "outputs": [
        {
          "output_type": "execute_result",
          "data": {
            "text/plain": [
              "(1000, 12)"
            ]
          },
          "metadata": {
            "tags": []
          },
          "execution_count": 63
        }
      ]
    },
    {
      "cell_type": "code",
      "metadata": {
        "id": "vlKivo1aJc4-",
        "colab_type": "code",
        "colab": {
          "base_uri": "https://localhost:8080/",
          "height": 351
        },
        "outputId": "7277ad9b-0eb0-46d0-f292-2311c00b06ba"
      },
      "source": [
        "df.info()"
      ],
      "execution_count": 64,
      "outputs": [
        {
          "output_type": "stream",
          "text": [
            "<class 'pandas.core.frame.DataFrame'>\n",
            "RangeIndex: 1000 entries, 0 to 999\n",
            "Data columns (total 12 columns):\n",
            " #   Column         Non-Null Count  Dtype  \n",
            "---  ------         --------------  -----  \n",
            " 0   v.id           1000 non-null   int64  \n",
            " 1   on road old    1000 non-null   int64  \n",
            " 2   on road now    1000 non-null   int64  \n",
            " 3   years          1000 non-null   int64  \n",
            " 4   km             1000 non-null   int64  \n",
            " 5   rating         1000 non-null   int64  \n",
            " 6   condition      1000 non-null   int64  \n",
            " 7   economy        1000 non-null   int64  \n",
            " 8   top speed      1000 non-null   int64  \n",
            " 9   hp             1000 non-null   int64  \n",
            " 10  torque         1000 non-null   int64  \n",
            " 11  current price  1000 non-null   float64\n",
            "dtypes: float64(1), int64(11)\n",
            "memory usage: 93.9 KB\n"
          ],
          "name": "stdout"
        }
      ]
    },
    {
      "cell_type": "code",
      "metadata": {
        "id": "0GFIaKu_Jtgl",
        "colab_type": "code",
        "colab": {
          "base_uri": "https://localhost:8080/",
          "height": 279
        },
        "outputId": "5422185a-3eb5-49fd-e367-725704cd122f"
      },
      "source": [
        "ax=sns.regplot(x='km',y='current price',data=df)"
      ],
      "execution_count": 65,
      "outputs": [
        {
          "output_type": "display_data",
          "data": {
            "image/png": "[encoded data removed]",
            "text/plain": [
              "<Figure size 432x288 with 1 Axes>"
            ]
          },
          "metadata": {
            "tags": [],
            "needs_background": "light"
          }
        }
      ]
    },
    {
      "cell_type": "code",
      "metadata": {
        "id": "wUSfw3XlN-oA",
        "colab_type": "code",
        "colab": {}
      },
      "source": [
        "x=df[['on road old','on road now','years','km','rating','condition','economy','top speed','hp','torque']]\n",
        "y=df['current price']"
      ],
      "execution_count": 99,
      "outputs": []
    },
    {
      "cell_type": "code",
      "metadata": {
        "id": "MWyTxvt-gudy",
        "colab_type": "code",
        "colab": {}
      },
      "source": [
        "from sklearn.model_selection import train_test_split\n",
        "x_train, x_test, y_train, y_test = train_test_split(x, y, test_size=0.20, random_state=101)"
      ],
      "execution_count": 100,
      "outputs": []
    },
    {
      "cell_type": "code",
      "metadata": {
        "id": "jMml4zDrhOeI",
        "colab_type": "code",
        "colab": {}
      },
      "source": [
        "import tensorflow as tf\n",
        "from tensorflow import keras\n",
        "from tensorflow.keras.optimizers import Adam\n",
        "model=keras.Sequential([keras.layers.Dense(10,activation=tf.nn.relu,input_shape=[10,]),\n",
        "                        keras.layers.Dense(1)])"
      ],
      "execution_count": 101,
      "outputs": []
    },
    {
      "cell_type": "code",
      "metadata": {
        "id": "dykvnO8Hf0z1",
        "colab_type": "code",
        "colab": {
          "base_uri": "https://localhost:8080/",
          "height": 1000
        },
        "outputId": "fa252347-ffff-4181-ae9d-99b4bb495dee"
      },
      "source": [
        "model.compile(optimizer=Adam(0.01),loss='mean_squared_error')\n",
        "history=model.fit(x_train,y_train,validation_split=0.25,epochs=30)"
      ],
      "execution_count": 102,
      "outputs": [
        {
          "output_type": "stream",
          "text": [
            "Epoch 1/30\n",
            "19/19 [==============================] - 0s 6ms/step - loss: 16133257216.0000 - val_loss: 14673924096.0000\n",
            "Epoch 2/30\n",
            "19/19 [==============================] - 0s 4ms/step - loss: 14487826432.0000 - val_loss: 13317008384.0000\n",
            "Epoch 3/30\n",
            "19/19 [==============================] - 0s 4ms/step - loss: 12500268032.0000 - val_loss: 11659260928.0000\n",
            "Epoch 4/30\n",
            "19/19 [==============================] - 0s 4ms/step - loss: 10822022144.0000 - val_loss: 9447160832.0000\n",
            "Epoch 5/30\n",
            "19/19 [==============================] - 0s 4ms/step - loss: 8794080256.0000 - val_loss: 7387969536.0000\n",
            "Epoch 6/30\n",
            "19/19 [==============================] - 0s 4ms/step - loss: 6515125248.0000 - val_loss: 5235883520.0000\n",
            "Epoch 7/30\n",
            "19/19 [==============================] - 0s 4ms/step - loss: 4284455680.0000 - val_loss: 3085443840.0000\n",
            "Epoch 8/30\n",
            "19/19 [==============================] - 0s 4ms/step - loss: 2408652544.0000 - val_loss: 1511312640.0000\n",
            "Epoch 9/30\n",
            "19/19 [==============================] - 0s 4ms/step - loss: 1115944448.0000 - val_loss: 737023744.0000\n",
            "Epoch 10/30\n",
            "19/19 [==============================] - 0s 4ms/step - loss: 509988000.0000 - val_loss: 372778816.0000\n",
            "Epoch 11/30\n",
            "19/19 [==============================] - 0s 4ms/step - loss: 300078528.0000 - val_loss: 275414528.0000\n",
            "Epoch 12/30\n",
            "19/19 [==============================] - 0s 4ms/step - loss: 264383808.0000 - val_loss: 270780416.0000\n",
            "Epoch 13/30\n",
            "19/19 [==============================] - 0s 4ms/step - loss: 309349792.0000 - val_loss: 284247552.0000\n",
            "Epoch 14/30\n",
            "19/19 [==============================] - 0s 4ms/step - loss: 313053440.0000 - val_loss: 269679264.0000\n",
            "Epoch 15/30\n",
            "19/19 [==============================] - 0s 4ms/step - loss: 253695536.0000 - val_loss: 265668896.0000\n",
            "Epoch 16/30\n",
            "19/19 [==============================] - 0s 4ms/step - loss: 259548768.0000 - val_loss: 398654720.0000\n",
            "Epoch 17/30\n",
            "19/19 [==============================] - 0s 4ms/step - loss: 281370976.0000 - val_loss: 264046240.0000\n",
            "Epoch 18/30\n",
            "19/19 [==============================] - 0s 4ms/step - loss: 286109920.0000 - val_loss: 273629248.0000\n",
            "Epoch 19/30\n",
            "19/19 [==============================] - 0s 4ms/step - loss: 262339712.0000 - val_loss: 274685728.0000\n",
            "Epoch 20/30\n",
            "19/19 [==============================] - 0s 4ms/step - loss: 282257120.0000 - val_loss: 294281280.0000\n",
            "Epoch 21/30\n",
            "19/19 [==============================] - 0s 4ms/step - loss: 291864416.0000 - val_loss: 263717936.0000\n",
            "Epoch 22/30\n",
            "19/19 [==============================] - 0s 4ms/step - loss: 256510224.0000 - val_loss: 265062448.0000\n",
            "Epoch 23/30\n",
            "19/19 [==============================] - 0s 4ms/step - loss: 305776000.0000 - val_loss: 277968512.0000\n",
            "Epoch 24/30\n",
            "19/19 [==============================] - 0s 4ms/step - loss: 288362144.0000 - val_loss: 263412864.0000\n",
            "Epoch 25/30\n",
            "19/19 [==============================] - 0s 4ms/step - loss: 313027456.0000 - val_loss: 329367360.0000\n",
            "Epoch 26/30\n",
            "19/19 [==============================] - 0s 4ms/step - loss: 269282976.0000 - val_loss: 277594656.0000\n",
            "Epoch 27/30\n",
            "19/19 [==============================] - 0s 3ms/step - loss: 266077632.0000 - val_loss: 301394464.0000\n",
            "Epoch 28/30\n",
            "19/19 [==============================] - 0s 4ms/step - loss: 270392352.0000 - val_loss: 264158816.0000\n",
            "Epoch 29/30\n",
            "19/19 [==============================] - 0s 3ms/step - loss: 257742816.0000 - val_loss: 270485376.0000\n",
            "Epoch 30/30\n",
            "19/19 [==============================] - 0s 3ms/step - loss: 263410944.0000 - val_loss: 301726816.0000\n"
          ],
          "name": "stdout"
        }
      ]
    },
    {
      "cell_type": "code",
      "metadata": {
        "id": "SxhDA2U2hs5R",
        "colab_type": "code",
        "colab": {
          "base_uri": "https://localhost:8080/",
          "height": 295
        },
        "outputId": "2681bb94-7f8e-43af-c7ec-670c1a425589"
      },
      "source": [
        "plt.plot(history.history['loss'])\n",
        "plt.plot(history.history['val_loss'])\n",
        "plt.title('model loss')\n",
        "plt.ylabel('loss')\n",
        "plt.xlabel('epoch')\n",
        "plt.legend(['train', 'validation'], loc='upper left')\n",
        "plt.show()"
      ],
      "execution_count": 103,
      "outputs": [
        {
          "output_type": "display_data",
          "data": {
            "image/png": "[encoded data removed]",
            "text/plain": [
              "<Figure size 432x288 with 1 Axes>"
            ]
          },
          "metadata": {
            "tags": [],
            "needs_background": "light"
          }
        }
      ]
    },
    {
      "cell_type": "code",
      "metadata": {
        "id": "GYNztD8ehBnr",
        "colab_type": "code",
        "colab": {
          "base_uri": "https://localhost:8080/",
          "height": 34
        },
        "outputId": "4b25afe8-fee7-4d21-d3cc-7bd61d6681b4"
      },
      "source": [
        "print(model.predict([[691388,811335,6,61559,3,9,12,160,53,105]]))"
      ],
      "execution_count": 104,
      "outputs": [
        {
          "output_type": "stream",
          "text": [
            "[[522193.4]]\n"
          ],
          "name": "stdout"
        }
      ]
    },
    {
      "cell_type": "code",
      "metadata": {
        "id": "qZMjjGtlQ_kZ",
        "colab_type": "code",
        "colab": {
          "base_uri": "https://localhost:8080/",
          "height": 932
        },
        "outputId": "9ad20a0f-5985-482e-8f2b-ea2c5031f683"
      },
      "source": [
        "print('Coefficients: \\n', model.get_weights())"
      ],
      "execution_count": 105,
      "outputs": [
        {
          "output_type": "stream",
          "text": [
            "Coefficients: \n",
            " [array([[-2.23845720e-01,  4.06026244e-02,  4.18760926e-01,\n",
            "         1.91559687e-01,  2.82913536e-01,  1.76004171e-01,\n",
            "         3.71450841e-01,  1.40916705e-01,  1.17099643e-01,\n",
            "         1.08369112e-01],\n",
            "       [-3.80452871e-01,  2.78880745e-01, -1.27238765e-01,\n",
            "         2.28148717e-02,  1.95218801e-01, -3.53115618e-01,\n",
            "        -4.76114810e-01, -4.01088536e-01, -8.84212852e-02,\n",
            "        -1.05534464e-01],\n",
            "       [-4.07933503e-01, -2.35654265e-01, -4.46988642e-01,\n",
            "         1.23138897e-01, -9.94034290e-01, -5.24752676e-01,\n",
            "         4.39086378e-01, -4.04796541e-01,  1.77487910e-01,\n",
            "         2.55901635e-01],\n",
            "       [ 2.20895350e-01, -1.49255574e+00, -9.62740362e-01,\n",
            "        -6.07118249e-01, -1.66017783e+00,  3.87963474e-01,\n",
            "         1.19292200e-01, -3.46028805e-03, -3.38375568e-01,\n",
            "        -1.79416537e-01],\n",
            "       [ 8.11183453e-03, -1.78928852e-01, -1.05548821e-01,\n",
            "         3.10753495e-01, -2.75610685e-01,  1.57441318e-01,\n",
            "        -1.36335552e-01, -4.76913482e-01,  1.26514435e-02,\n",
            "        -5.09703159e-01],\n",
            "       [ 8.04178119e-02,  3.77981043e+00,  3.19461107e+00,\n",
            "         1.70538306e+00,  2.12750793e+00, -4.94485438e-01,\n",
            "         5.34415364e-01,  1.14421427e-01, -1.07560009e-01,\n",
            "         5.41491508e-01],\n",
            "       [ 5.24010777e-01,  3.89648736e-01,  1.57213792e-01,\n",
            "        -9.13216360e-03, -3.16476077e-01,  1.66719437e-01,\n",
            "        -2.15662986e-01, -1.06424540e-01,  2.40161180e-01,\n",
            "         4.15244937e-01],\n",
            "       [ 1.58682168e-01,  3.33129793e-01, -4.73547101e-01,\n",
            "        -6.76259995e-01, -1.14246733e-01,  4.47802722e-01,\n",
            "        -4.88609910e-01,  4.26538587e-02,  3.36005807e-01,\n",
            "         5.36791921e-01],\n",
            "       [-1.27256095e-01,  5.09986818e-01, -2.92073607e-01,\n",
            "        -2.45764196e-01,  4.85553116e-01, -2.77316630e-01,\n",
            "         1.99220359e-01,  4.89090562e-01, -8.51141512e-02,\n",
            "        -2.75600046e-01],\n",
            "       [-6.65763915e-02, -3.71352166e-01,  3.00379902e-01,\n",
            "        -3.75026137e-01,  4.26994443e-01, -2.76310980e-01,\n",
            "         5.09301543e-01, -1.04565024e-02,  2.44259536e-01,\n",
            "        -3.40835452e-02]], dtype=float32), array([ 0.        ,  0.07379549, -0.07921753, -0.07562713, -0.10357184,\n",
            "        0.        ,  0.        ,  0.        ,  0.        ,  0.        ],\n",
            "      dtype=float32), array([[ 0.58666307],\n",
            "       [ 1.3751005 ],\n",
            "       [ 0.34059617],\n",
            "       [ 0.47175208],\n",
            "       [ 0.80174994],\n",
            "       [-0.5890931 ],\n",
            "       [-0.32278165],\n",
            "       [ 0.26844114],\n",
            "       [ 0.1309067 ],\n",
            "       [-0.26079118]], dtype=float32), array([-0.07573818], dtype=float32)]\n"
          ],
          "name": "stdout"
        }
      ]
    },
    {
      "cell_type": "code",
      "metadata": {
        "id": "ceCjSenlAZ2S",
        "colab_type": "code",
        "colab": {
          "base_uri": "https://localhost:8080/",
          "height": 70
        },
        "outputId": "6313e0e7-8ee8-4db4-cf9b-e1b5c0fae18a"
      },
      "source": [
        "from sklearn.metrics import mean_absolute_error,mean_squared_error,r2_score\n",
        "y_prediction=model.predict(x_test)\n",
        "print(r2_score(y_prediction,y_test))\n",
        "print(mean_absolute_error(y_prediction,y_test))\n",
        "print(mean_squared_error(y_prediction,y_test))"
      ],
      "execution_count": 106,
      "outputs": [
        {
          "output_type": "stream",
          "text": [
            "0.9814497077819189\n",
            "15211.942890625\n",
            "294030142.88127744\n"
          ],
          "name": "stdout"
        }
      ]
    },
    {
      "cell_type": "code",
      "metadata": {
        "id": "CdB7FYVSnH2e",
        "colab_type": "code",
        "colab": {
          "base_uri": "https://localhost:8080/",
          "height": 300
        },
        "outputId": "aeedd877-c2e4-44d4-c88a-376a97fcc82d"
      },
      "source": [
        "plt.scatter(y_test,y_prediction)\n",
        "plt.xlabel('Y Test')\n",
        "plt.ylabel('Y Predicted')"
      ],
      "execution_count": 107,
      "outputs": [
        {
          "output_type": "execute_result",
          "data": {
            "text/plain": [
              "Text(0, 0.5, 'Y Predicted')"
            ]
          },
          "metadata": {
            "tags": []
          },
          "execution_count": 107
        },
        {
          "output_type": "display_data",
          "data": {
            "image/png": "[encoded data removed]",
            "text/plain": [
              "<Figure size 432x288 with 1 Axes>"
            ]
          },
          "metadata": {
            "tags": [],
            "needs_background": "light"
          }
        }
      ]
    }
  ]
}